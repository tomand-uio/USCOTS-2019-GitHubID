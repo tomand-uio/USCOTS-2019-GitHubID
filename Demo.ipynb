{
  "nbformat": 4,
  "nbformat_minor": 0,
  "metadata": {
    "colab": {
      "name": "Demo.ipynb",
      "version": "0.3.2",
      "provenance": [],
      "toc_visible": true,
      "include_colab_link": true
    },
    "kernelspec": {
      "name": "python3",
      "display_name": "Python 3"
    }
  },
  "cells": [
    {
      "cell_type": "markdown",
      "metadata": {
        "id": "view-in-github",
        "colab_type": "text"
      },
      "source": [
        "<a href=\"https://colab.research.google.com/github/tomand-uio/USCOTS-2019-GitHubID/blob/master/Demo.ipynb\" target=\"_parent\"><img src=\"https://colab.research.google.com/assets/colab-badge.svg\" alt=\"Open In Colab\"/></a>"
      ]
    },
    {
      "cell_type": "markdown",
      "metadata": {
        "id": "nOjU6U1hPHNs",
        "colab_type": "text"
      },
      "source": [
        "# Challenges of teaching with data\n",
        "## 1. Hardware (outdated computers, Mac vs. PC vs. other)\n",
        "## 2. Software (licenses, versions)\n",
        "## 3. Quantitative Reasoning Skills\n",
        "## 4. Syntax\n",
        "\n",
        "# One potential solution is the Jupyter Notebook (or Google Colab)"
      ]
    },
    {
      "cell_type": "code",
      "metadata": {
        "id": "Kx1MqR7bHGmh",
        "colab_type": "code",
        "colab": {
          "base_uri": "https://localhost:8080/",
          "height": 35
        },
        "outputId": "9fcc573b-0a35-4d1c-ce56-08b00443139a"
      },
      "source": [
        "1+1\n"
      ],
      "execution_count": 1,
      "outputs": [
        {
          "output_type": "execute_result",
          "data": {
            "text/plain": [
              "2"
            ]
          },
          "metadata": {
            "tags": []
          },
          "execution_count": 1
        }
      ]
    },
    {
      "cell_type": "markdown",
      "metadata": {
        "id": "MSw8A8ipDGR7",
        "colab_type": "text"
      },
      "source": [
        "# Why Python?\n",
        "\n",
        "A [recent analysis](https://stackoverflow.blog/2017/09/06/incredible-growth-python/) of questions from Stack Overflow showed that python is the fastest growing and most widely used programming language in the world (in developed countries).\n",
        "\n",
        "![python growth](https://zgab33vy595fw5zq-zippykid.netdna-ssl.com/wp-content/uploads/2017/09/growth_major_languages-1-1024x878.png)\n",
        "\n",
        "A [follow-up analysis](https://stackoverflow.blog/2017/09/14/python-growing-quickly/) showed that this growth is driven by the data science packages such as numpy, matplotlib, and especially pandas.\n",
        "\n",
        "\n"
      ]
    },
    {
      "cell_type": "code",
      "metadata": {
        "id": "b6yimpQGPEnN",
        "colab_type": "code",
        "outputId": "afcb0052-00b7-483b-f3c5-ef200aaecf13",
        "colab": {
          "base_uri": "https://localhost:8080/",
          "height": 620
        }
      },
      "source": [
        "from IPython.display import Image\n",
        "Image(url = \"https://fabienmaussion.info/acinn_python_workshop/figures/scipy_ecosystem.png\", width=800)"
      ],
      "execution_count": 0,
      "outputs": [
        {
          "output_type": "execute_result",
          "data": {
            "text/html": [
              "<img src=\"https://fabienmaussion.info/acinn_python_workshop/figures/scipy_ecosystem.png\" width=\"800\"/>"
            ],
            "text/plain": [
              "<IPython.core.display.Image object>"
            ]
          },
          "metadata": {
            "tags": []
          },
          "execution_count": 1
        }
      ]
    },
    {
      "cell_type": "markdown",
      "metadata": {
        "id": "xvXA6W9Yrv-R",
        "colab_type": "text"
      },
      "source": [
        "# Create our Environment "
      ]
    },
    {
      "cell_type": "code",
      "metadata": {
        "id": "XjVMQ4bLOJ2Y",
        "colab_type": "code",
        "colab": {}
      },
      "source": [
        "import pandas as pd\n",
        "import numpy as np"
      ],
      "execution_count": 0,
      "outputs": []
    },
    {
      "cell_type": "markdown",
      "metadata": {
        "id": "IL5fs01nDpLP",
        "colab_type": "text"
      },
      "source": [
        "# Import Data\n",
        "## Example\n",
        "\n",
        "### U.S. Climate Reference Network (USCRN) \n",
        "### Data from NOAA's premiere surface reference network. The contiguous U.S. network of 114 stations was completed in 2008. \n",
        "\n",
        "### Here we a are pulling all data from 2017 from the NY-Millbrook station. "
      ]
    },
    {
      "cell_type": "code",
      "metadata": {
        "id": "eOBNgvXrOCwU",
        "colab_type": "code",
        "outputId": "84447986-c871-4a1e-db7b-3b4bc4ae9552",
        "colab": {
          "base_uri": "https://localhost:8080/",
          "height": 527
        }
      },
      "source": [
        "# some shell code to download some data\n",
        "! wget ftp://ftp.ncdc.noaa.gov/pub/data/uscrn/products/daily01/HEADERS.txt\n",
        "! wget ftp://ftp.ncdc.noaa.gov/pub/data/uscrn/products/daily01/2017/CRND0103-2017-NY_Millbrook_3_W.txt\n",
        "! head -2 HEADERS.txt | tail -1 > data.txt\n",
        "! cat CRND0103-2017-NY_Millbrook_3_W.txt >> data.txt"
      ],
      "execution_count": 0,
      "outputs": [
        {
          "output_type": "stream",
          "text": [
            "--2019-06-13 02:36:06--  ftp://ftp.ncdc.noaa.gov/pub/data/uscrn/products/daily01/HEADERS.txt\n",
            "           => ‘HEADERS.txt’\n",
            "Resolving ftp.ncdc.noaa.gov (ftp.ncdc.noaa.gov)... 205.167.25.101, 2610:20:8040:2::101\n",
            "Connecting to ftp.ncdc.noaa.gov (ftp.ncdc.noaa.gov)|205.167.25.101|:21... connected.\n",
            "Logging in as anonymous ... Logged in!\n",
            "==> SYST ... done.    ==> PWD ... done.\n",
            "==> TYPE I ... done.  ==> CWD (1) /pub/data/uscrn/products/daily01 ... done.\n",
            "==> SIZE HEADERS.txt ... 730\n",
            "==> PASV ... done.    ==> RETR HEADERS.txt ... done.\n",
            "Length: 730 (unauthoritative)\n",
            "\n",
            "HEADERS.txt         100%[===================>]     730  --.-KB/s    in 0.01s   \n",
            "\n",
            "2019-06-13 02:36:07 (63.8 KB/s) - ‘HEADERS.txt’ saved [730]\n",
            "\n",
            "--2019-06-13 02:36:07--  ftp://ftp.ncdc.noaa.gov/pub/data/uscrn/products/daily01/2017/CRND0103-2017-NY_Millbrook_3_W.txt\n",
            "           => ‘CRND0103-2017-NY_Millbrook_3_W.txt’\n",
            "Resolving ftp.ncdc.noaa.gov (ftp.ncdc.noaa.gov)... 205.167.25.101, 2610:20:8040:2::101\n",
            "Connecting to ftp.ncdc.noaa.gov (ftp.ncdc.noaa.gov)|205.167.25.101|:21... connected.\n",
            "Logging in as anonymous ... Logged in!\n",
            "==> SYST ... done.    ==> PWD ... done.\n",
            "==> TYPE I ... done.  ==> CWD (1) /pub/data/uscrn/products/daily01/2017 ... done.\n",
            "==> SIZE CRND0103-2017-NY_Millbrook_3_W.txt ... 79205\n",
            "==> PASV ... done.    ==> RETR CRND0103-2017-NY_Millbrook_3_W.txt ... done.\n",
            "Length: 79205 (77K) (unauthoritative)\n",
            "\n",
            "CRND0103-2017-NY_Mi 100%[===================>]  77.35K   342KB/s    in 0.2s    \n",
            "\n",
            "2019-06-13 02:36:09 (342 KB/s) - ‘CRND0103-2017-NY_Millbrook_3_W.txt’ saved [79205]\n",
            "\n"
          ],
          "name": "stdout"
        }
      ]
    },
    {
      "cell_type": "code",
      "metadata": {
        "id": "jY0R24I1OzSF",
        "colab_type": "code",
        "outputId": "2daf8d3e-6fde-4fc3-ad70-6c21b8e28f5a",
        "colab": {
          "base_uri": "https://localhost:8080/",
          "height": 340
        }
      },
      "source": [
        "df = pd.read_csv('data.txt', sep='\\s+',na_values=[-9999.0, -99.0],parse_dates=[1])\n",
        "df = df.set_index('LST_DATE')\n",
        "df.head()"
      ],
      "execution_count": 0,
      "outputs": [
        {
          "output_type": "execute_result",
          "data": {
            "text/html": [
              "<div>\n",
              "<style scoped>\n",
              "    .dataframe tbody tr th:only-of-type {\n",
              "        vertical-align: middle;\n",
              "    }\n",
              "\n",
              "    .dataframe tbody tr th {\n",
              "        vertical-align: top;\n",
              "    }\n",
              "\n",
              "    .dataframe thead th {\n",
              "        text-align: right;\n",
              "    }\n",
              "</style>\n",
              "<table border=\"1\" class=\"dataframe\">\n",
              "  <thead>\n",
              "    <tr style=\"text-align: right;\">\n",
              "      <th></th>\n",
              "      <th>WBANNO</th>\n",
              "      <th>CRX_VN</th>\n",
              "      <th>LONGITUDE</th>\n",
              "      <th>LATITUDE</th>\n",
              "      <th>T_DAILY_MAX</th>\n",
              "      <th>T_DAILY_MIN</th>\n",
              "      <th>T_DAILY_MEAN</th>\n",
              "      <th>T_DAILY_AVG</th>\n",
              "      <th>P_DAILY_CALC</th>\n",
              "      <th>SOLARAD_DAILY</th>\n",
              "      <th>SUR_TEMP_DAILY_TYPE</th>\n",
              "      <th>SUR_TEMP_DAILY_MAX</th>\n",
              "      <th>SUR_TEMP_DAILY_MIN</th>\n",
              "      <th>SUR_TEMP_DAILY_AVG</th>\n",
              "      <th>RH_DAILY_MAX</th>\n",
              "      <th>RH_DAILY_MIN</th>\n",
              "      <th>RH_DAILY_AVG</th>\n",
              "      <th>SOIL_MOISTURE_5_DAILY</th>\n",
              "      <th>SOIL_MOISTURE_10_DAILY</th>\n",
              "      <th>SOIL_MOISTURE_20_DAILY</th>\n",
              "      <th>SOIL_MOISTURE_50_DAILY</th>\n",
              "      <th>SOIL_MOISTURE_100_DAILY</th>\n",
              "      <th>SOIL_TEMP_5_DAILY</th>\n",
              "      <th>SOIL_TEMP_10_DAILY</th>\n",
              "      <th>SOIL_TEMP_20_DAILY</th>\n",
              "      <th>SOIL_TEMP_50_DAILY</th>\n",
              "      <th>SOIL_TEMP_100_DAILY</th>\n",
              "    </tr>\n",
              "    <tr>\n",
              "      <th>LST_DATE</th>\n",
              "      <th></th>\n",
              "      <th></th>\n",
              "      <th></th>\n",
              "      <th></th>\n",
              "      <th></th>\n",
              "      <th></th>\n",
              "      <th></th>\n",
              "      <th></th>\n",
              "      <th></th>\n",
              "      <th></th>\n",
              "      <th></th>\n",
              "      <th></th>\n",
              "      <th></th>\n",
              "      <th></th>\n",
              "      <th></th>\n",
              "      <th></th>\n",
              "      <th></th>\n",
              "      <th></th>\n",
              "      <th></th>\n",
              "      <th></th>\n",
              "      <th></th>\n",
              "      <th></th>\n",
              "      <th></th>\n",
              "      <th></th>\n",
              "      <th></th>\n",
              "      <th></th>\n",
              "      <th></th>\n",
              "    </tr>\n",
              "  </thead>\n",
              "  <tbody>\n",
              "    <tr>\n",
              "      <th>2017-01-01</th>\n",
              "      <td>64756</td>\n",
              "      <td>2.422</td>\n",
              "      <td>-73.74</td>\n",
              "      <td>41.79</td>\n",
              "      <td>6.6</td>\n",
              "      <td>-5.4</td>\n",
              "      <td>0.6</td>\n",
              "      <td>2.2</td>\n",
              "      <td>0.0</td>\n",
              "      <td>8.68</td>\n",
              "      <td>C</td>\n",
              "      <td>7.9</td>\n",
              "      <td>-6.6</td>\n",
              "      <td>-0.5</td>\n",
              "      <td>84.8</td>\n",
              "      <td>30.7</td>\n",
              "      <td>53.7</td>\n",
              "      <td>NaN</td>\n",
              "      <td>NaN</td>\n",
              "      <td>0.207</td>\n",
              "      <td>0.152</td>\n",
              "      <td>0.175</td>\n",
              "      <td>-0.1</td>\n",
              "      <td>0.0</td>\n",
              "      <td>0.6</td>\n",
              "      <td>1.5</td>\n",
              "      <td>3.4</td>\n",
              "    </tr>\n",
              "    <tr>\n",
              "      <th>2017-01-02</th>\n",
              "      <td>64756</td>\n",
              "      <td>2.422</td>\n",
              "      <td>-73.74</td>\n",
              "      <td>41.79</td>\n",
              "      <td>4.0</td>\n",
              "      <td>-6.8</td>\n",
              "      <td>-1.4</td>\n",
              "      <td>-1.2</td>\n",
              "      <td>0.0</td>\n",
              "      <td>2.08</td>\n",
              "      <td>C</td>\n",
              "      <td>4.1</td>\n",
              "      <td>-7.1</td>\n",
              "      <td>-1.6</td>\n",
              "      <td>91.1</td>\n",
              "      <td>49.1</td>\n",
              "      <td>77.4</td>\n",
              "      <td>NaN</td>\n",
              "      <td>NaN</td>\n",
              "      <td>0.205</td>\n",
              "      <td>0.151</td>\n",
              "      <td>0.173</td>\n",
              "      <td>-0.2</td>\n",
              "      <td>0.0</td>\n",
              "      <td>0.6</td>\n",
              "      <td>1.5</td>\n",
              "      <td>3.3</td>\n",
              "    </tr>\n",
              "    <tr>\n",
              "      <th>2017-01-03</th>\n",
              "      <td>64756</td>\n",
              "      <td>2.422</td>\n",
              "      <td>-73.74</td>\n",
              "      <td>41.79</td>\n",
              "      <td>4.9</td>\n",
              "      <td>0.7</td>\n",
              "      <td>2.8</td>\n",
              "      <td>2.7</td>\n",
              "      <td>13.1</td>\n",
              "      <td>0.68</td>\n",
              "      <td>C</td>\n",
              "      <td>3.9</td>\n",
              "      <td>0.1</td>\n",
              "      <td>1.6</td>\n",
              "      <td>96.5</td>\n",
              "      <td>80.1</td>\n",
              "      <td>91.5</td>\n",
              "      <td>NaN</td>\n",
              "      <td>NaN</td>\n",
              "      <td>0.205</td>\n",
              "      <td>0.150</td>\n",
              "      <td>0.173</td>\n",
              "      <td>-0.1</td>\n",
              "      <td>0.0</td>\n",
              "      <td>0.5</td>\n",
              "      <td>1.5</td>\n",
              "      <td>3.3</td>\n",
              "    </tr>\n",
              "    <tr>\n",
              "      <th>2017-01-04</th>\n",
              "      <td>64756</td>\n",
              "      <td>2.422</td>\n",
              "      <td>-73.74</td>\n",
              "      <td>41.79</td>\n",
              "      <td>8.7</td>\n",
              "      <td>-1.6</td>\n",
              "      <td>3.6</td>\n",
              "      <td>3.5</td>\n",
              "      <td>1.3</td>\n",
              "      <td>2.85</td>\n",
              "      <td>C</td>\n",
              "      <td>9.4</td>\n",
              "      <td>-4.5</td>\n",
              "      <td>1.3</td>\n",
              "      <td>97.4</td>\n",
              "      <td>34.0</td>\n",
              "      <td>73.1</td>\n",
              "      <td>NaN</td>\n",
              "      <td>NaN</td>\n",
              "      <td>0.215</td>\n",
              "      <td>0.153</td>\n",
              "      <td>0.174</td>\n",
              "      <td>-0.1</td>\n",
              "      <td>0.0</td>\n",
              "      <td>0.5</td>\n",
              "      <td>1.5</td>\n",
              "      <td>3.2</td>\n",
              "    </tr>\n",
              "    <tr>\n",
              "      <th>2017-01-05</th>\n",
              "      <td>64756</td>\n",
              "      <td>2.422</td>\n",
              "      <td>-73.74</td>\n",
              "      <td>41.79</td>\n",
              "      <td>-0.5</td>\n",
              "      <td>-4.6</td>\n",
              "      <td>-2.5</td>\n",
              "      <td>-2.8</td>\n",
              "      <td>0.0</td>\n",
              "      <td>4.90</td>\n",
              "      <td>C</td>\n",
              "      <td>5.0</td>\n",
              "      <td>-7.6</td>\n",
              "      <td>-3.3</td>\n",
              "      <td>51.0</td>\n",
              "      <td>34.4</td>\n",
              "      <td>42.5</td>\n",
              "      <td>NaN</td>\n",
              "      <td>NaN</td>\n",
              "      <td>0.215</td>\n",
              "      <td>0.154</td>\n",
              "      <td>0.177</td>\n",
              "      <td>-0.1</td>\n",
              "      <td>0.0</td>\n",
              "      <td>0.5</td>\n",
              "      <td>1.4</td>\n",
              "      <td>3.1</td>\n",
              "    </tr>\n",
              "  </tbody>\n",
              "</table>\n",
              "</div>"
            ],
            "text/plain": [
              "            WBANNO  CRX_VN  ...  SOIL_TEMP_50_DAILY  SOIL_TEMP_100_DAILY\n",
              "LST_DATE                    ...                                         \n",
              "2017-01-01   64756   2.422  ...                 1.5                  3.4\n",
              "2017-01-02   64756   2.422  ...                 1.5                  3.3\n",
              "2017-01-03   64756   2.422  ...                 1.5                  3.3\n",
              "2017-01-04   64756   2.422  ...                 1.5                  3.2\n",
              "2017-01-05   64756   2.422  ...                 1.4                  3.1\n",
              "\n",
              "[5 rows x 27 columns]"
            ]
          },
          "metadata": {
            "tags": []
          },
          "execution_count": 4
        }
      ]
    },
    {
      "cell_type": "markdown",
      "metadata": {
        "id": "NkgXJLhosw4_",
        "colab_type": "text"
      },
      "source": [
        "# Pandas\n",
        "\n",
        "[Pandas](http://pandas.pydata.org/) is a an open source library providing high-performance, easy-to-use data structures and data analysis tools. Pandas is particularly suited to the analysis of _tabular_ data, i.e. data that can can go into a table. In other words, if you can imagine the data in an Excel spreadsheet, then Pandas is the tool for the job.\n",
        "\n",
        "![pandas growth](https://zgab33vy595fw5zq-zippykid.netdna-ssl.com/wp-content/uploads/2017/09/related_tags_over_time-1-1024x1024.png)\n",
        "\n",
        "The exponential growth of pandas is due to the fact that it _just works_. It saves you time and helps you do science more efficiently and effictively.\n",
        "\n",
        "### Pandas capabilities (from the Pandas website):\n",
        "\n",
        "* A fast and efficient DataFrame object for data manipulation with integrated indexing;\n",
        "* Tools for reading and writing data between in-memory data structures and different formats: CSV and text files, Microsoft Excel, SQL databases, and the fast HDF5 format;\n",
        "* Intelligent data alignment and integrated handling of missing data: gain automatic label-based alignment in computations and easily manipulate messy data into an orderly form;\n",
        "* Flexible reshaping and pivoting of data sets;\n",
        "* Intelligent label-based slicing, fancy indexing, and subsetting of large data sets;\n",
        "* Columns can be inserted and deleted from data structures for size mutability;\n",
        "* Aggregating or transforming data with a powerful group by engine allowing split-apply-combine operations on data sets;\n",
        "* High performance merging and joining of data sets;\n",
        "* Hierarchical axis indexing provides an intuitive way of working with high-dimensional data in a lower-dimensional data structure;\n",
        "* Time series-functionality: date range generation and frequency conversion, moving window statistics, moving window linear regressions, date shifting and lagging. Even create domain-specific time offsets and join time series without losing data;\n",
        "* Highly optimized for performance, with critical code paths written in Cython or C.\n",
        "* Python with pandas is in use in a wide variety of academic and commercial domains, including Finance, Neuroscience, Economics, Statistics, Advertising, Web Analytics, and more.\n",
        "\n",
        "# Explore Pandas! It is a very deep library, and you will need to dig into the [documentation](http://pandas.pydata.org/pandas-docs/stable/) for more advanced usage.\n",
        "\n",
        "Pandas was created by [Wes McKinney](http://wesmckinney.com/). Many of the examples here are drawn from Wes McKinney's book [Python for Data Analysis](http://shop.oreilly.com/product/0636920023784.do), which includes a github repo of [code samples](https://github.com/wesm/pydata-book).\n",
        "\n",
        "# Accessing this data programatically, required a total of 6 lines of code. It worked the same for all of us. \n",
        "* Avoided all the complications of navigating a data portal. \n",
        "* Avoided all the issues surounding software set up (versions, liscences, installations)\n",
        "* Avoided all the issues that surround the software hardware (some of you have Macs, some PCs and some of you have not ran your updates in a really long time....)\n",
        "\n",
        "## Everyone now has a data set, properly indexed in time, that is ready to be investigated. "
      ]
    },
    {
      "cell_type": "code",
      "metadata": {
        "id": "yX32j7wTtCJ6",
        "colab_type": "code",
        "outputId": "3fe5705a-b661-4bef-e216-37e5b4c14a3d",
        "colab": {
          "base_uri": "https://localhost:8080/",
          "height": 317
        }
      },
      "source": [
        "# What do you want to know about your data?\n",
        "df.describe()"
      ],
      "execution_count": 0,
      "outputs": [
        {
          "output_type": "execute_result",
          "data": {
            "text/html": [
              "<div>\n",
              "<style scoped>\n",
              "    .dataframe tbody tr th:only-of-type {\n",
              "        vertical-align: middle;\n",
              "    }\n",
              "\n",
              "    .dataframe tbody tr th {\n",
              "        vertical-align: top;\n",
              "    }\n",
              "\n",
              "    .dataframe thead th {\n",
              "        text-align: right;\n",
              "    }\n",
              "</style>\n",
              "<table border=\"1\" class=\"dataframe\">\n",
              "  <thead>\n",
              "    <tr style=\"text-align: right;\">\n",
              "      <th></th>\n",
              "      <th>WBANNO</th>\n",
              "      <th>CRX_VN</th>\n",
              "      <th>LONGITUDE</th>\n",
              "      <th>LATITUDE</th>\n",
              "      <th>T_DAILY_MAX</th>\n",
              "      <th>T_DAILY_MIN</th>\n",
              "      <th>T_DAILY_MEAN</th>\n",
              "      <th>T_DAILY_AVG</th>\n",
              "      <th>P_DAILY_CALC</th>\n",
              "      <th>SOLARAD_DAILY</th>\n",
              "      <th>SUR_TEMP_DAILY_MAX</th>\n",
              "      <th>SUR_TEMP_DAILY_MIN</th>\n",
              "      <th>SUR_TEMP_DAILY_AVG</th>\n",
              "      <th>RH_DAILY_MAX</th>\n",
              "      <th>RH_DAILY_MIN</th>\n",
              "      <th>RH_DAILY_AVG</th>\n",
              "      <th>SOIL_MOISTURE_5_DAILY</th>\n",
              "      <th>SOIL_MOISTURE_10_DAILY</th>\n",
              "      <th>SOIL_MOISTURE_20_DAILY</th>\n",
              "      <th>SOIL_MOISTURE_50_DAILY</th>\n",
              "      <th>SOIL_MOISTURE_100_DAILY</th>\n",
              "      <th>SOIL_TEMP_5_DAILY</th>\n",
              "      <th>SOIL_TEMP_10_DAILY</th>\n",
              "      <th>SOIL_TEMP_20_DAILY</th>\n",
              "      <th>SOIL_TEMP_50_DAILY</th>\n",
              "      <th>SOIL_TEMP_100_DAILY</th>\n",
              "    </tr>\n",
              "  </thead>\n",
              "  <tbody>\n",
              "    <tr>\n",
              "      <th>count</th>\n",
              "      <td>365.0</td>\n",
              "      <td>365.000000</td>\n",
              "      <td>3.650000e+02</td>\n",
              "      <td>3.650000e+02</td>\n",
              "      <td>364.000000</td>\n",
              "      <td>364.000000</td>\n",
              "      <td>364.000000</td>\n",
              "      <td>364.000000</td>\n",
              "      <td>364.000000</td>\n",
              "      <td>364.000000</td>\n",
              "      <td>364.000000</td>\n",
              "      <td>364.000000</td>\n",
              "      <td>364.000000</td>\n",
              "      <td>364.000000</td>\n",
              "      <td>364.000000</td>\n",
              "      <td>364.000000</td>\n",
              "      <td>317.000000</td>\n",
              "      <td>317.000000</td>\n",
              "      <td>336.000000</td>\n",
              "      <td>364.000000</td>\n",
              "      <td>359.000000</td>\n",
              "      <td>364.000000</td>\n",
              "      <td>364.000000</td>\n",
              "      <td>364.000000</td>\n",
              "      <td>364.000000</td>\n",
              "      <td>364.000000</td>\n",
              "    </tr>\n",
              "    <tr>\n",
              "      <th>mean</th>\n",
              "      <td>64756.0</td>\n",
              "      <td>2.470767</td>\n",
              "      <td>-7.374000e+01</td>\n",
              "      <td>4.179000e+01</td>\n",
              "      <td>15.720055</td>\n",
              "      <td>4.037912</td>\n",
              "      <td>9.876374</td>\n",
              "      <td>9.990110</td>\n",
              "      <td>2.797802</td>\n",
              "      <td>13.068187</td>\n",
              "      <td>22.396703</td>\n",
              "      <td>1.624451</td>\n",
              "      <td>10.248626</td>\n",
              "      <td>88.974176</td>\n",
              "      <td>46.349176</td>\n",
              "      <td>69.394231</td>\n",
              "      <td>0.183861</td>\n",
              "      <td>0.181038</td>\n",
              "      <td>0.156554</td>\n",
              "      <td>0.138332</td>\n",
              "      <td>0.162869</td>\n",
              "      <td>12.344231</td>\n",
              "      <td>12.308516</td>\n",
              "      <td>12.060989</td>\n",
              "      <td>11.960989</td>\n",
              "      <td>11.971978</td>\n",
              "    </tr>\n",
              "    <tr>\n",
              "      <th>std</th>\n",
              "      <td>0.0</td>\n",
              "      <td>0.085997</td>\n",
              "      <td>5.265234e-13</td>\n",
              "      <td>3.842198e-13</td>\n",
              "      <td>10.502087</td>\n",
              "      <td>9.460676</td>\n",
              "      <td>9.727451</td>\n",
              "      <td>9.619168</td>\n",
              "      <td>7.238628</td>\n",
              "      <td>7.953074</td>\n",
              "      <td>15.043183</td>\n",
              "      <td>11.044597</td>\n",
              "      <td>11.448891</td>\n",
              "      <td>9.012024</td>\n",
              "      <td>15.910943</td>\n",
              "      <td>12.824655</td>\n",
              "      <td>0.047483</td>\n",
              "      <td>0.052699</td>\n",
              "      <td>0.042759</td>\n",
              "      <td>0.019212</td>\n",
              "      <td>0.013809</td>\n",
              "      <td>9.367742</td>\n",
              "      <td>9.350273</td>\n",
              "      <td>8.760899</td>\n",
              "      <td>8.082595</td>\n",
              "      <td>7.170197</td>\n",
              "    </tr>\n",
              "    <tr>\n",
              "      <th>min</th>\n",
              "      <td>64756.0</td>\n",
              "      <td>2.422000</td>\n",
              "      <td>-7.374000e+01</td>\n",
              "      <td>4.179000e+01</td>\n",
              "      <td>-12.300000</td>\n",
              "      <td>-21.800000</td>\n",
              "      <td>-17.000000</td>\n",
              "      <td>-16.700000</td>\n",
              "      <td>0.000000</td>\n",
              "      <td>0.100000</td>\n",
              "      <td>-12.100000</td>\n",
              "      <td>-29.800000</td>\n",
              "      <td>-22.800000</td>\n",
              "      <td>49.800000</td>\n",
              "      <td>14.900000</td>\n",
              "      <td>24.300000</td>\n",
              "      <td>0.076000</td>\n",
              "      <td>0.074000</td>\n",
              "      <td>0.069000</td>\n",
              "      <td>0.100000</td>\n",
              "      <td>0.128000</td>\n",
              "      <td>-0.700000</td>\n",
              "      <td>-0.400000</td>\n",
              "      <td>0.200000</td>\n",
              "      <td>0.900000</td>\n",
              "      <td>1.900000</td>\n",
              "    </tr>\n",
              "    <tr>\n",
              "      <th>25%</th>\n",
              "      <td>64756.0</td>\n",
              "      <td>2.422000</td>\n",
              "      <td>-7.374000e+01</td>\n",
              "      <td>4.179000e+01</td>\n",
              "      <td>6.900000</td>\n",
              "      <td>-2.775000</td>\n",
              "      <td>2.100000</td>\n",
              "      <td>2.275000</td>\n",
              "      <td>0.000000</td>\n",
              "      <td>6.225000</td>\n",
              "      <td>9.800000</td>\n",
              "      <td>-6.325000</td>\n",
              "      <td>0.200000</td>\n",
              "      <td>87.000000</td>\n",
              "      <td>35.500000</td>\n",
              "      <td>59.800000</td>\n",
              "      <td>0.149000</td>\n",
              "      <td>0.137000</td>\n",
              "      <td>0.118000</td>\n",
              "      <td>0.118000</td>\n",
              "      <td>0.155000</td>\n",
              "      <td>2.275000</td>\n",
              "      <td>2.075000</td>\n",
              "      <td>2.575000</td>\n",
              "      <td>3.300000</td>\n",
              "      <td>4.100000</td>\n",
              "    </tr>\n",
              "    <tr>\n",
              "      <th>50%</th>\n",
              "      <td>64756.0</td>\n",
              "      <td>2.422000</td>\n",
              "      <td>-7.374000e+01</td>\n",
              "      <td>4.179000e+01</td>\n",
              "      <td>17.450000</td>\n",
              "      <td>4.350000</td>\n",
              "      <td>10.850000</td>\n",
              "      <td>11.050000</td>\n",
              "      <td>0.000000</td>\n",
              "      <td>12.865000</td>\n",
              "      <td>25.150000</td>\n",
              "      <td>1.500000</td>\n",
              "      <td>12.400000</td>\n",
              "      <td>92.900000</td>\n",
              "      <td>44.200000</td>\n",
              "      <td>71.500000</td>\n",
              "      <td>0.192000</td>\n",
              "      <td>0.198000</td>\n",
              "      <td>0.169000</td>\n",
              "      <td>0.147000</td>\n",
              "      <td>0.166000</td>\n",
              "      <td>13.300000</td>\n",
              "      <td>13.350000</td>\n",
              "      <td>13.100000</td>\n",
              "      <td>12.850000</td>\n",
              "      <td>11.650000</td>\n",
              "    </tr>\n",
              "    <tr>\n",
              "      <th>75%</th>\n",
              "      <td>64756.0</td>\n",
              "      <td>2.422000</td>\n",
              "      <td>-7.374000e+01</td>\n",
              "      <td>4.179000e+01</td>\n",
              "      <td>24.850000</td>\n",
              "      <td>11.900000</td>\n",
              "      <td>18.150000</td>\n",
              "      <td>18.450000</td>\n",
              "      <td>1.400000</td>\n",
              "      <td>19.740000</td>\n",
              "      <td>35.900000</td>\n",
              "      <td>10.600000</td>\n",
              "      <td>20.400000</td>\n",
              "      <td>94.700000</td>\n",
              "      <td>56.150000</td>\n",
              "      <td>78.625000</td>\n",
              "      <td>0.221000</td>\n",
              "      <td>0.219000</td>\n",
              "      <td>0.188000</td>\n",
              "      <td>0.152250</td>\n",
              "      <td>0.173000</td>\n",
              "      <td>21.025000</td>\n",
              "      <td>21.125000</td>\n",
              "      <td>20.400000</td>\n",
              "      <td>19.800000</td>\n",
              "      <td>19.325000</td>\n",
              "    </tr>\n",
              "    <tr>\n",
              "      <th>max</th>\n",
              "      <td>64756.0</td>\n",
              "      <td>2.622000</td>\n",
              "      <td>-7.374000e+01</td>\n",
              "      <td>4.179000e+01</td>\n",
              "      <td>33.400000</td>\n",
              "      <td>20.700000</td>\n",
              "      <td>25.700000</td>\n",
              "      <td>26.700000</td>\n",
              "      <td>65.700000</td>\n",
              "      <td>29.910000</td>\n",
              "      <td>45.700000</td>\n",
              "      <td>21.000000</td>\n",
              "      <td>28.000000</td>\n",
              "      <td>97.800000</td>\n",
              "      <td>88.800000</td>\n",
              "      <td>94.000000</td>\n",
              "      <td>0.294000</td>\n",
              "      <td>0.321000</td>\n",
              "      <td>0.231000</td>\n",
              "      <td>0.170000</td>\n",
              "      <td>0.192000</td>\n",
              "      <td>27.600000</td>\n",
              "      <td>27.400000</td>\n",
              "      <td>25.600000</td>\n",
              "      <td>24.100000</td>\n",
              "      <td>22.100000</td>\n",
              "    </tr>\n",
              "  </tbody>\n",
              "</table>\n",
              "</div>"
            ],
            "text/plain": [
              "        WBANNO      CRX_VN  ...  SOIL_TEMP_50_DAILY  SOIL_TEMP_100_DAILY\n",
              "count    365.0  365.000000  ...          364.000000           364.000000\n",
              "mean   64756.0    2.470767  ...           11.960989            11.971978\n",
              "std        0.0    0.085997  ...            8.082595             7.170197\n",
              "min    64756.0    2.422000  ...            0.900000             1.900000\n",
              "25%    64756.0    2.422000  ...            3.300000             4.100000\n",
              "50%    64756.0    2.422000  ...           12.850000            11.650000\n",
              "75%    64756.0    2.422000  ...           19.800000            19.325000\n",
              "max    64756.0    2.622000  ...           24.100000            22.100000\n",
              "\n",
              "[8 rows x 26 columns]"
            ]
          },
          "metadata": {
            "tags": []
          },
          "execution_count": 7
        }
      ]
    },
    {
      "cell_type": "code",
      "metadata": {
        "id": "eJ8ZlPwBtTIM",
        "colab_type": "code",
        "outputId": "2ae2fe32-7f8d-4574-b9d5-2925b51d7b0a",
        "colab": {
          "base_uri": "https://localhost:8080/",
          "height": 295
        }
      },
      "source": [
        "df.T_DAILY_MEAN.plot();\n",
        "#ax.set(xlabel=\"Date\", ylabel=\"Temp\")"
      ],
      "execution_count": 0,
      "outputs": [
        {
          "output_type": "display_data",
          "data": {
            "image/png": "[encoded data removed]",
            "text/plain": [
              "<Figure size 432x288 with 1 Axes>"
            ]
          },
          "metadata": {
            "tags": []
          }
        }
      ]
    },
    {
      "cell_type": "code",
      "metadata": {
        "id": "LmcPJHd1wZlz",
        "colab_type": "code",
        "outputId": "344e7e7a-fbb7-4010-94b2-60033febc22b",
        "colab": {
          "base_uri": "https://localhost:8080/",
          "height": 295
        }
      },
      "source": [
        "df[['T_DAILY_MIN', 'T_DAILY_MEAN', 'T_DAILY_MAX']].plot(legend = True);"
      ],
      "execution_count": 0,
      "outputs": [
        {
          "output_type": "display_data",
          "data": {
            "image/png": "[encoded data removed]",
            "text/plain": [
              "<Figure size 432x288 with 1 Axes>"
            ]
          },
          "metadata": {
            "tags": []
          }
        }
      ]
    },
    {
      "cell_type": "code",
      "metadata": {
        "id": "GUywuZS3w1hj",
        "colab_type": "code",
        "outputId": "6ba5a1d1-11ea-44bc-ab51-c02573d3a348",
        "colab": {
          "base_uri": "https://localhost:8080/",
          "height": 295
        }
      },
      "source": [
        "df_mm = df.resample('MS').mean()\n",
        "df_mm[['T_DAILY_MIN', 'T_DAILY_MEAN', 'T_DAILY_MAX']].plot( legend = True);"
      ],
      "execution_count": 0,
      "outputs": [
        {
          "output_type": "display_data",
          "data": {
            "image/png": "[encoded data removed]",
            "text/plain": [
              "<Figure size 432x288 with 1 Axes>"
            ]
          },
          "metadata": {
            "tags": []
          }
        }
      ]
    },
    {
      "cell_type": "markdown",
      "metadata": {
        "id": "ecKD6jo9w-5x",
        "colab_type": "text"
      },
      "source": [
        "# https://github.com/pangeo-data/pangeo-ocean-examples\n",
        "\n",
        "# https://github.com/daxsoule/computing_resources"
      ]
    },
    {
      "cell_type": "code",
      "metadata": {
        "id": "oZXqP6HzxaKc",
        "colab_type": "code",
        "colab": {}
      },
      "source": [
        ""
      ],
      "execution_count": 0,
      "outputs": []
    }
  ]
}